{
 "cells": [
  {
   "cell_type": "code",
   "execution_count": 13,
   "id": "ebc6a1ec",
   "metadata": {},
   "outputs": [],
   "source": [
    "# Importing Libraries\n",
    "import matplotlib\n",
    "import matplotlib.pyplot as plt\n",
    "import pandas as pd\n",
    "import numpy as np\n",
    "import sklearn\n",
    "import json\n",
    "\n",
    "# Preprocessing purpose\n",
    "from sklearn.preprocessing import StandardScaler\n",
    "from sklearn.preprocessing import LabelEncoder\n",
    "\n",
    "# Splitting Data\n",
    "from sklearn.model_selection import train_test_split\n",
    "\n",
    "# For Decision tree, accuracy, Classification Report, Confusion Matrix\n",
    "from sklearn import metrics\n",
    "from sklearn import tree\n",
    "\n",
    "# Mail Notification\n",
    "import smtplib\n",
    "from email.mime.base import MIMEBase\n",
    "from email.mime.multipart import MIMEMultipart\n",
    "from email.mime.text import MIMEText\n",
    "from email import encoders\n",
    "\n",
    "# Ignore warnings\n",
    "import warnings\n",
    "warnings.filterwarnings('ignore')"
   ]
  },
  {
   "cell_type": "code",
   "execution_count": 25,
   "id": "1722ed4d",
   "metadata": {},
   "outputs": [],
   "source": [
    "# Uploading datasets for training,testing and prediction\n",
    "def readData():\n",
    "    dataset = pd.read_csv('./Data/UNSW_NB15_training-set.csv')\n",
    "    with open('./Data/mailCreds.json', 'r') as file:\n",
    "        creds = json.load(file)\n",
    "    return [dataset, creds]"
   ]
  },
  {
   "cell_type": "code",
   "execution_count": 26,
   "id": "e9fb7ebf",
   "metadata": {},
   "outputs": [],
   "source": [
    "def standardScaling(dataset):\n",
    "    SS = StandardScaler()\n",
    "    # extract numerical attributes and scale it to have unit standard deviation \n",
    "    cols = dataset.select_dtypes(include=['float64','int64']).columns\n",
    "    intCols = SS.fit_transform(dataset.select_dtypes(include=['float64','int64']))\n",
    "    # turn the result back to a dataframe\n",
    "    intColsDf = pd.DataFrame(intCols, columns = cols)\n",
    "    return intColsDf"
   ]
  },
  {
   "cell_type": "code",
   "execution_count": 27,
   "id": "8b3823da",
   "metadata": {},
   "outputs": [],
   "source": [
    "def LabelEncoding(dataset):\n",
    "    LE = LabelEncoder()\n",
    "    # extract categorical attributes from both training and test sets\n",
    "    objCols = dataset.select_dtypes(include=['object']).copy()\n",
    "    # encode the categorical attributes\n",
    "    LEobjCols = objCols.apply(LE.fit_transform)\n",
    "    # separate target column from encoded data \n",
    "    encObjCols = LEobjCols.drop(['attack_cat'], axis=1)\n",
    "    return encObjCols"
   ]
  },
  {
   "cell_type": "code",
   "execution_count": 28,
   "id": "ed3b4857",
   "metadata": {},
   "outputs": [],
   "source": [
    "def mlTraining(train_x, train_y):\n",
    "    X_train,X_test,Y_train,Y_test = train_test_split(train_x,train_y,test_size=0.80, random_state=10)\n",
    "    DTC_Classifier = tree.DecisionTreeClassifier(criterion='entropy', random_state=0) #Decision Tree Classifier\n",
    "    DTC_Classifier.fit(X_train, Y_train)\n",
    "    return [DTC_Classifier, X_train, X_test, Y_train, Y_test]"
   ]
  },
  {
   "cell_type": "code",
   "execution_count": 29,
   "id": "444efd91",
   "metadata": {},
   "outputs": [],
   "source": [
    "def trainingResults(model, X_train, Y_train):\n",
    "    train_accuracy = metrics.accuracy_score(Y_train, model.predict(X_train))\n",
    "    train_confusion_matrix = metrics.confusion_matrix(Y_train, model.predict(X_train))\n",
    "    train_classification = metrics.classification_report(Y_train, model.predict(X_train), output_dict=True)\n",
    "    print()\n",
    "    print('============================== Decision Tree Classifier Model Evaluation ==============================')\n",
    "    print (\"Model Accuracy:\" \"\\n\", train_accuracy)\n",
    "    print()\n",
    "    print(\"Confusion matrix:\" \"\\n\", train_confusion_matrix)\n",
    "    print()\n",
    "    return [train_accuracy, train_confusion_matrix, train_classification]"
   ]
  },
  {
   "cell_type": "code",
   "execution_count": 30,
   "id": "da065ebe",
   "metadata": {
    "scrolled": true
   },
   "outputs": [],
   "source": [
    "def testingResults(model, X_test, Y_test):\n",
    "    test_accuracy = metrics.accuracy_score(Y_test, model.predict(X_test))\n",
    "    test_confusion_matrix = metrics.confusion_matrix(Y_test, model.predict(X_test))\n",
    "    test_classification = metrics.classification_report(Y_test, model.predict(X_test), output_dict=True)\n",
    "    print()\n",
    "    print('============================== Decision Tree Classifier Model Test Results ==============================')\n",
    "    print()\n",
    "    print (\"Model Accuracy:\" \"\\n\", test_accuracy)\n",
    "    print()\n",
    "    print(\"Confusion matrix:\" \"\\n\", test_confusion_matrix)\n",
    "    print()    \n",
    "    return [test_accuracy, test_confusion_matrix, test_classification]"
   ]
  },
  {
   "cell_type": "code",
   "execution_count": 31,
   "id": "b58f09f8",
   "metadata": {},
   "outputs": [],
   "source": [
    "def save_report_to_excel(report, filename):\n",
    "    # Convert classification report to DataFrame\n",
    "    report_df = pd.DataFrame(report).transpose()\n",
    "    \n",
    "    # Save DataFrame to Excel file\n",
    "    with pd.ExcelWriter(filename, engine='openpyxl') as writer:\n",
    "        report_df.to_excel(writer, sheet_name='Classification Report')"
   ]
  },
  {
   "cell_type": "code",
   "execution_count": 32,
   "id": "ad9f23fe",
   "metadata": {},
   "outputs": [],
   "source": [
    "def send_email(subject, body, to_email, from_email, password, attachment_path):\n",
    "    # Create the email message\n",
    "    msg = MIMEMultipart()\n",
    "    msg['From'] = from_email\n",
    "    msg['To'] = to_email\n",
    "    msg['Subject'] = subject\n",
    "\n",
    "    # Attach the email body to the message\n",
    "    msg.attach(MIMEText(body, 'plain'))\n",
    "    with open(attachment_path, 'rb') as attachment:\n",
    "        part = MIMEBase('application', 'octet-stream')\n",
    "        part.set_payload(attachment.read())\n",
    "        encoders.encode_base64(part)\n",
    "        part.add_header(\n",
    "            'Content-Disposition',\n",
    "            f'attachment; filename= {attachment_path}',\n",
    "        )\n",
    "        msg.attach(part)\n",
    "\n",
    "    try:\n",
    "        # Set up the server\n",
    "        server = smtplib.SMTP_SSL('smtp.gmail.com', 465)\n",
    "\n",
    "        # Log in to the email account\n",
    "        server.login(from_email, password)\n",
    "\n",
    "        # Send the email\n",
    "        server.sendmail(from_email, to_email, msg.as_string())\n",
    "\n",
    "        # Close the server\n",
    "        server.quit()\n",
    "\n",
    "        print(\"Email sent successfully!\")\n",
    "    except Exception as e:\n",
    "        print(f\"Failed to send email: {e}\")"
   ]
  },
  {
   "cell_type": "code",
   "execution_count": 37,
   "id": "832428e0",
   "metadata": {},
   "outputs": [],
   "source": [
    "[dataset, creds] = readData()\n",
    "intCols = standardScaling(dataset)\n",
    "objCols = LabelEncoding(dataset)\n",
    "train_x = pd.concat([intCols, objCols],axis=1)\n",
    "train_y = dataset['attack_cat']\n",
    "[model, X_train, X_test, Y_train, Y_test] = mlTraining(train_x, train_y)\n",
    "from_email = creds['email_id']\n",
    "auth_password = creds['password']\n",
    "subject = \"Classification Report\"\n",
    "body = \"Please find the attached classification report.\"\n",
    "to_email = \"tsric12345@gmail.com\"\n",
    "excel_filename = 'classification_report.xlsx'"
   ]
  },
  {
   "cell_type": "code",
   "execution_count": 38,
   "id": "a90bccd2",
   "metadata": {},
   "outputs": [
    {
     "name": "stdout",
     "output_type": "stream",
     "text": [
      "\n",
      "============================== Decision Tree Classifier Model Evaluation ==============================\n",
      "Model Accuracy:\n",
      " 1.0\n",
      "\n",
      "Confusion matrix:\n",
      " [[ 128    0    0    0    0    0    0    0    0    0]\n",
      " [   0  116    0    0    0    0    0    0    0    0]\n",
      " [   0    0  767    0    0    0    0    0    0    0]\n",
      " [   0    0    0 2231    0    0    0    0    0    0]\n",
      " [   0    0    0    0 1248    0    0    0    0    0]\n",
      " [   0    0    0    0    0 3867    0    0    0    0]\n",
      " [   0    0    0    0    0    0 7305    0    0    0]\n",
      " [   0    0    0    0    0    0    0  713    0    0]\n",
      " [   0    0    0    0    0    0    0    0   82    0]\n",
      " [   0    0    0    0    0    0    0    0    0    9]]\n",
      "\n",
      "\n",
      "============================== Decision Tree Classifier Model Test Results ==============================\n",
      "\n",
      "Model Accuracy:\n",
      " 0.8758236419396958\n",
      "\n",
      "Confusion matrix:\n",
      " [[   56    96    98   182   111     0     0     6     0     0]\n",
      " [   81    29    70   175    94     7     0    10     1     0]\n",
      " [  137    88  1086  1472   255    86     0   164    33     1]\n",
      " [  190   170  1422  5988   519   174     0   332    83    23]\n",
      " [  112   106   255   480  3718    37     0    44    60     2]\n",
      " [    0     4    67   153    52 14712     0     5    10     1]\n",
      " [    0     0     0     0     0     0 29695     0     0     0]\n",
      " [    3     5   153   277    42     3     0  2275    25     0]\n",
      " [    0     2    47    50    30    18     0    21   127     1]\n",
      " [    0     0     7    22     3     1     0     0     1     1]]\n",
      "\n"
     ]
    }
   ],
   "source": [
    "modelTraining = trainingResults(model, X_train, Y_train)\n",
    "modelTesting = testingResults(model, X_test, Y_test)\n",
    "report_dict = modelTesting[2]\n",
    "save_report_to_excel(report_dict, excel_filename)"
   ]
  },
  {
   "cell_type": "code",
   "execution_count": 36,
   "id": "9212827c",
   "metadata": {},
   "outputs": [
    {
     "name": "stdout",
     "output_type": "stream",
     "text": [
      "Email sent successfully!\n"
     ]
    }
   ],
   "source": [
    "# Send the email with the classification report\n",
    "send_email(subject, body, to_email, from_email, auth_password, excel_filename)"
   ]
  }
 ],
 "metadata": {
  "kernelspec": {
   "display_name": "Python 3 (ipykernel)",
   "language": "python",
   "name": "python3"
  },
  "language_info": {
   "codemirror_mode": {
    "name": "ipython",
    "version": 3
   },
   "file_extension": ".py",
   "mimetype": "text/x-python",
   "name": "python",
   "nbconvert_exporter": "python",
   "pygments_lexer": "ipython3",
   "version": "3.11.3"
  }
 },
 "nbformat": 4,
 "nbformat_minor": 5
}
